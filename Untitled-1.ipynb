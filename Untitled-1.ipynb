{
 "cells": [
  {
   "cell_type": "code",
   "execution_count": 116,
   "metadata": {},
   "outputs": [
    {
     "data": {
      "text/html": [
       "<div>\n",
       "<style scoped>\n",
       "    .dataframe tbody tr th:only-of-type {\n",
       "        vertical-align: middle;\n",
       "    }\n",
       "\n",
       "    .dataframe tbody tr th {\n",
       "        vertical-align: top;\n",
       "    }\n",
       "\n",
       "    .dataframe thead th {\n",
       "        text-align: right;\n",
       "    }\n",
       "</style>\n",
       "<table border=\"1\" class=\"dataframe\">\n",
       "  <thead>\n",
       "    <tr style=\"text-align: right;\">\n",
       "      <th></th>\n",
       "      <th>Series Name</th>\n",
       "      <th>Series Code</th>\n",
       "      <th>Country Name</th>\n",
       "      <th>Country Code</th>\n",
       "      <th>2001</th>\n",
       "      <th>2002</th>\n",
       "      <th>2003</th>\n",
       "      <th>2011</th>\n",
       "      <th>2012</th>\n",
       "      <th>2013</th>\n",
       "      <th>2021</th>\n",
       "      <th>2022</th>\n",
       "      <th>2023</th>\n",
       "    </tr>\n",
       "  </thead>\n",
       "  <tbody>\n",
       "    <tr>\n",
       "      <th>0</th>\n",
       "      <td>Population, total</td>\n",
       "      <td>SP.POP.TOTL</td>\n",
       "      <td>Afghanistan</td>\n",
       "      <td>AFG</td>\n",
       "      <td>19688632</td>\n",
       "      <td>21000256</td>\n",
       "      <td>22645130</td>\n",
       "      <td>29249157</td>\n",
       "      <td>30466479</td>\n",
       "      <td>31541209</td>\n",
       "      <td>40099462</td>\n",
       "      <td>41128771</td>\n",
       "      <td>42239854</td>\n",
       "    </tr>\n",
       "    <tr>\n",
       "      <th>1</th>\n",
       "      <td>Population, total</td>\n",
       "      <td>SP.POP.TOTL</td>\n",
       "      <td>Albania</td>\n",
       "      <td>ALB</td>\n",
       "      <td>3060173</td>\n",
       "      <td>3051010</td>\n",
       "      <td>3039616</td>\n",
       "      <td>2905195</td>\n",
       "      <td>2900401</td>\n",
       "      <td>2895092</td>\n",
       "      <td>2811666</td>\n",
       "      <td>2777689</td>\n",
       "      <td>2745972</td>\n",
       "    </tr>\n",
       "    <tr>\n",
       "      <th>2</th>\n",
       "      <td>Population, total</td>\n",
       "      <td>SP.POP.TOTL</td>\n",
       "      <td>Algeria</td>\n",
       "      <td>DZA</td>\n",
       "      <td>31200985</td>\n",
       "      <td>31624696</td>\n",
       "      <td>32055883</td>\n",
       "      <td>36543541</td>\n",
       "      <td>37260563</td>\n",
       "      <td>38000626</td>\n",
       "      <td>44177969</td>\n",
       "      <td>44903225</td>\n",
       "      <td>45606480</td>\n",
       "    </tr>\n",
       "    <tr>\n",
       "      <th>3</th>\n",
       "      <td>Population, total</td>\n",
       "      <td>SP.POP.TOTL</td>\n",
       "      <td>American Samoa</td>\n",
       "      <td>ASM</td>\n",
       "      <td>58324</td>\n",
       "      <td>58177</td>\n",
       "      <td>57941</td>\n",
       "      <td>54310</td>\n",
       "      <td>53691</td>\n",
       "      <td>52995</td>\n",
       "      <td>45035</td>\n",
       "      <td>44273</td>\n",
       "      <td>43914</td>\n",
       "    </tr>\n",
       "    <tr>\n",
       "      <th>4</th>\n",
       "      <td>Population, total</td>\n",
       "      <td>SP.POP.TOTL</td>\n",
       "      <td>Andorra</td>\n",
       "      <td>AND</td>\n",
       "      <td>67820</td>\n",
       "      <td>70849</td>\n",
       "      <td>73907</td>\n",
       "      <td>70567</td>\n",
       "      <td>71013</td>\n",
       "      <td>71367</td>\n",
       "      <td>79034</td>\n",
       "      <td>79824</td>\n",
       "      <td>80088</td>\n",
       "    </tr>\n",
       "    <tr>\n",
       "      <th>...</th>\n",
       "      <td>...</td>\n",
       "      <td>...</td>\n",
       "      <td>...</td>\n",
       "      <td>...</td>\n",
       "      <td>...</td>\n",
       "      <td>...</td>\n",
       "      <td>...</td>\n",
       "      <td>...</td>\n",
       "      <td>...</td>\n",
       "      <td>...</td>\n",
       "      <td>...</td>\n",
       "      <td>...</td>\n",
       "      <td>...</td>\n",
       "    </tr>\n",
       "    <tr>\n",
       "      <th>213</th>\n",
       "      <td>Population, total</td>\n",
       "      <td>SP.POP.TOTL</td>\n",
       "      <td>West Bank and Gaza</td>\n",
       "      <td>PSE</td>\n",
       "      <td>2997784</td>\n",
       "      <td>3075373</td>\n",
       "      <td>3154969</td>\n",
       "      <td>3882986</td>\n",
       "      <td>3979998</td>\n",
       "      <td>4076708</td>\n",
       "      <td>4922749</td>\n",
       "      <td>5043612</td>\n",
       "      <td>5165775</td>\n",
       "    </tr>\n",
       "    <tr>\n",
       "      <th>214</th>\n",
       "      <td>Population, total</td>\n",
       "      <td>SP.POP.TOTL</td>\n",
       "      <td>Yemen, Rep.</td>\n",
       "      <td>YEM</td>\n",
       "      <td>19143457</td>\n",
       "      <td>19660653</td>\n",
       "      <td>20188799</td>\n",
       "      <td>25475610</td>\n",
       "      <td>26223391</td>\n",
       "      <td>26984002</td>\n",
       "      <td>32981641</td>\n",
       "      <td>33696614</td>\n",
       "      <td>34449825</td>\n",
       "    </tr>\n",
       "    <tr>\n",
       "      <th>215</th>\n",
       "      <td>Population, total</td>\n",
       "      <td>SP.POP.TOTL</td>\n",
       "      <td>Zambia</td>\n",
       "      <td>ZMB</td>\n",
       "      <td>10191964</td>\n",
       "      <td>10508294</td>\n",
       "      <td>10837973</td>\n",
       "      <td>14265814</td>\n",
       "      <td>14744658</td>\n",
       "      <td>15234976</td>\n",
       "      <td>19473125</td>\n",
       "      <td>20017675</td>\n",
       "      <td>20569737</td>\n",
       "    </tr>\n",
       "    <tr>\n",
       "      <th>216</th>\n",
       "      <td>Population, total</td>\n",
       "      <td>SP.POP.TOTL</td>\n",
       "      <td>Zimbabwe</td>\n",
       "      <td>ZWE</td>\n",
       "      <td>11910978</td>\n",
       "      <td>11984644</td>\n",
       "      <td>12075828</td>\n",
       "      <td>13025785</td>\n",
       "      <td>13265331</td>\n",
       "      <td>13555422</td>\n",
       "      <td>15993524</td>\n",
       "      <td>16320537</td>\n",
       "      <td>16665409</td>\n",
       "    </tr>\n",
       "    <tr>\n",
       "      <th>217</th>\n",
       "      <td>Population, total</td>\n",
       "      <td>SP.POP.TOTL</td>\n",
       "      <td>World</td>\n",
       "      <td>WLD</td>\n",
       "      <td>6226487141</td>\n",
       "      <td>6308284566</td>\n",
       "      <td>6389592840</td>\n",
       "      <td>7053988749</td>\n",
       "      <td>7141430933</td>\n",
       "      <td>7229458453</td>\n",
       "      <td>7888963821</td>\n",
       "      <td>7951595433</td>\n",
       "      <td>8024997028</td>\n",
       "    </tr>\n",
       "  </tbody>\n",
       "</table>\n",
       "<p>218 rows × 13 columns</p>\n",
       "</div>"
      ],
      "text/plain": [
       "           Series Name  Series Code        Country Name Country Code  \\\n",
       "0    Population, total  SP.POP.TOTL         Afghanistan          AFG   \n",
       "1    Population, total  SP.POP.TOTL             Albania          ALB   \n",
       "2    Population, total  SP.POP.TOTL             Algeria          DZA   \n",
       "3    Population, total  SP.POP.TOTL      American Samoa          ASM   \n",
       "4    Population, total  SP.POP.TOTL             Andorra          AND   \n",
       "..                 ...          ...                 ...          ...   \n",
       "213  Population, total  SP.POP.TOTL  West Bank and Gaza          PSE   \n",
       "214  Population, total  SP.POP.TOTL         Yemen, Rep.          YEM   \n",
       "215  Population, total  SP.POP.TOTL              Zambia          ZMB   \n",
       "216  Population, total  SP.POP.TOTL            Zimbabwe          ZWE   \n",
       "217  Population, total  SP.POP.TOTL               World          WLD   \n",
       "\n",
       "           2001        2002        2003        2011        2012        2013  \\\n",
       "0      19688632    21000256    22645130    29249157    30466479    31541209   \n",
       "1       3060173     3051010     3039616     2905195     2900401     2895092   \n",
       "2      31200985    31624696    32055883    36543541    37260563    38000626   \n",
       "3         58324       58177       57941       54310       53691       52995   \n",
       "4         67820       70849       73907       70567       71013       71367   \n",
       "..          ...         ...         ...         ...         ...         ...   \n",
       "213     2997784     3075373     3154969     3882986     3979998     4076708   \n",
       "214    19143457    19660653    20188799    25475610    26223391    26984002   \n",
       "215    10191964    10508294    10837973    14265814    14744658    15234976   \n",
       "216    11910978    11984644    12075828    13025785    13265331    13555422   \n",
       "217  6226487141  6308284566  6389592840  7053988749  7141430933  7229458453   \n",
       "\n",
       "           2021        2022        2023  \n",
       "0      40099462    41128771    42239854  \n",
       "1       2811666     2777689     2745972  \n",
       "2      44177969    44903225    45606480  \n",
       "3         45035       44273       43914  \n",
       "4         79034       79824       80088  \n",
       "..          ...         ...         ...  \n",
       "213     4922749     5043612     5165775  \n",
       "214    32981641    33696614    34449825  \n",
       "215    19473125    20017675    20569737  \n",
       "216    15993524    16320537    16665409  \n",
       "217  7888963821  7951595433  8024997028  \n",
       "\n",
       "[218 rows x 13 columns]"
      ]
     },
     "execution_count": 116,
     "metadata": {},
     "output_type": "execute_result"
    }
   ],
   "source": [
    "import pandas as pd\n",
    "import matplotlib.pyplot as mtpl\n",
    "\n",
    "#get the csv file\n",
    "df= pd.read_csv(\"WB_pop_clean.csv\")\n",
    "\n",
    "df\n",
    "\n",
    "\n"
   ]
  },
  {
   "cell_type": "code",
   "execution_count": 117,
   "metadata": {},
   "outputs": [
    {
     "data": {
      "text/html": [
       "<div>\n",
       "<style scoped>\n",
       "    .dataframe tbody tr th:only-of-type {\n",
       "        vertical-align: middle;\n",
       "    }\n",
       "\n",
       "    .dataframe tbody tr th {\n",
       "        vertical-align: top;\n",
       "    }\n",
       "\n",
       "    .dataframe thead th {\n",
       "        text-align: right;\n",
       "    }\n",
       "</style>\n",
       "<table border=\"1\" class=\"dataframe\">\n",
       "  <thead>\n",
       "    <tr style=\"text-align: right;\">\n",
       "      <th></th>\n",
       "      <th>Series Name</th>\n",
       "      <th>Series Code</th>\n",
       "      <th>Country Name</th>\n",
       "      <th>Country Code</th>\n",
       "      <th>2001</th>\n",
       "      <th>2002</th>\n",
       "      <th>2003</th>\n",
       "      <th>2011</th>\n",
       "      <th>2012</th>\n",
       "      <th>2013</th>\n",
       "      <th>2021</th>\n",
       "      <th>2022</th>\n",
       "      <th>2023</th>\n",
       "    </tr>\n",
       "  </thead>\n",
       "  <tbody>\n",
       "    <tr>\n",
       "      <th>0</th>\n",
       "      <td>Population, total</td>\n",
       "      <td>SP.POP.TOTL</td>\n",
       "      <td>Afghanistan</td>\n",
       "      <td>AFG</td>\n",
       "      <td>19688632</td>\n",
       "      <td>21000256</td>\n",
       "      <td>22645130</td>\n",
       "      <td>29249157</td>\n",
       "      <td>30466479</td>\n",
       "      <td>31541209</td>\n",
       "      <td>40099462</td>\n",
       "      <td>41128771</td>\n",
       "      <td>42239854</td>\n",
       "    </tr>\n",
       "    <tr>\n",
       "      <th>1</th>\n",
       "      <td>Population, total</td>\n",
       "      <td>SP.POP.TOTL</td>\n",
       "      <td>Albania</td>\n",
       "      <td>ALB</td>\n",
       "      <td>3060173</td>\n",
       "      <td>3051010</td>\n",
       "      <td>3039616</td>\n",
       "      <td>2905195</td>\n",
       "      <td>2900401</td>\n",
       "      <td>2895092</td>\n",
       "      <td>2811666</td>\n",
       "      <td>2777689</td>\n",
       "      <td>2745972</td>\n",
       "    </tr>\n",
       "    <tr>\n",
       "      <th>2</th>\n",
       "      <td>Population, total</td>\n",
       "      <td>SP.POP.TOTL</td>\n",
       "      <td>Algeria</td>\n",
       "      <td>DZA</td>\n",
       "      <td>31200985</td>\n",
       "      <td>31624696</td>\n",
       "      <td>32055883</td>\n",
       "      <td>36543541</td>\n",
       "      <td>37260563</td>\n",
       "      <td>38000626</td>\n",
       "      <td>44177969</td>\n",
       "      <td>44903225</td>\n",
       "      <td>45606480</td>\n",
       "    </tr>\n",
       "    <tr>\n",
       "      <th>3</th>\n",
       "      <td>Population, total</td>\n",
       "      <td>SP.POP.TOTL</td>\n",
       "      <td>American Samoa</td>\n",
       "      <td>ASM</td>\n",
       "      <td>58324</td>\n",
       "      <td>58177</td>\n",
       "      <td>57941</td>\n",
       "      <td>54310</td>\n",
       "      <td>53691</td>\n",
       "      <td>52995</td>\n",
       "      <td>45035</td>\n",
       "      <td>44273</td>\n",
       "      <td>43914</td>\n",
       "    </tr>\n",
       "    <tr>\n",
       "      <th>4</th>\n",
       "      <td>Population, total</td>\n",
       "      <td>SP.POP.TOTL</td>\n",
       "      <td>Andorra</td>\n",
       "      <td>AND</td>\n",
       "      <td>67820</td>\n",
       "      <td>70849</td>\n",
       "      <td>73907</td>\n",
       "      <td>70567</td>\n",
       "      <td>71013</td>\n",
       "      <td>71367</td>\n",
       "      <td>79034</td>\n",
       "      <td>79824</td>\n",
       "      <td>80088</td>\n",
       "    </tr>\n",
       "  </tbody>\n",
       "</table>\n",
       "</div>"
      ],
      "text/plain": [
       "         Series Name  Series Code    Country Name Country Code      2001  \\\n",
       "0  Population, total  SP.POP.TOTL     Afghanistan          AFG  19688632   \n",
       "1  Population, total  SP.POP.TOTL         Albania          ALB   3060173   \n",
       "2  Population, total  SP.POP.TOTL         Algeria          DZA  31200985   \n",
       "3  Population, total  SP.POP.TOTL  American Samoa          ASM     58324   \n",
       "4  Population, total  SP.POP.TOTL         Andorra          AND     67820   \n",
       "\n",
       "       2002      2003      2011      2012      2013      2021      2022  \\\n",
       "0  21000256  22645130  29249157  30466479  31541209  40099462  41128771   \n",
       "1   3051010   3039616   2905195   2900401   2895092   2811666   2777689   \n",
       "2  31624696  32055883  36543541  37260563  38000626  44177969  44903225   \n",
       "3     58177     57941     54310     53691     52995     45035     44273   \n",
       "4     70849     73907     70567     71013     71367     79034     79824   \n",
       "\n",
       "       2023  \n",
       "0  42239854  \n",
       "1   2745972  \n",
       "2  45606480  \n",
       "3     43914  \n",
       "4     80088  "
      ]
     },
     "execution_count": 117,
     "metadata": {},
     "output_type": "execute_result"
    }
   ],
   "source": [
    "\n",
    "#get head()\n",
    "df.head()"
   ]
  },
  {
   "cell_type": "code",
   "execution_count": 118,
   "metadata": {},
   "outputs": [
    {
     "data": {
      "text/plain": [
       "0      AFG\n",
       "1      ALB\n",
       "2      DZA\n",
       "3      ASM\n",
       "4      AND\n",
       "      ... \n",
       "213    PSE\n",
       "214    YEM\n",
       "215    ZMB\n",
       "216    ZWE\n",
       "217    WLD\n",
       "Name: Country Code, Length: 218, dtype: object"
      ]
     },
     "execution_count": 118,
     "metadata": {},
     "output_type": "execute_result"
    }
   ],
   "source": [
    "#inspect the country code values\n",
    "df[\"Country Code\"]\n"
   ]
  },
  {
   "cell_type": "code",
   "execution_count": 119,
   "metadata": {},
   "outputs": [
    {
     "data": {
      "text/html": [
       "<div>\n",
       "<style scoped>\n",
       "    .dataframe tbody tr th:only-of-type {\n",
       "        vertical-align: middle;\n",
       "    }\n",
       "\n",
       "    .dataframe tbody tr th {\n",
       "        vertical-align: top;\n",
       "    }\n",
       "\n",
       "    .dataframe thead th {\n",
       "        text-align: right;\n",
       "    }\n",
       "</style>\n",
       "<table border=\"1\" class=\"dataframe\">\n",
       "  <thead>\n",
       "    <tr style=\"text-align: right;\">\n",
       "      <th></th>\n",
       "      <th>Series Name</th>\n",
       "      <th>Series Code</th>\n",
       "      <th>Country Name</th>\n",
       "      <th>Country Code</th>\n",
       "      <th>2001</th>\n",
       "      <th>2002</th>\n",
       "      <th>2003</th>\n",
       "      <th>2011</th>\n",
       "      <th>2012</th>\n",
       "      <th>2013</th>\n",
       "      <th>2021</th>\n",
       "      <th>2022</th>\n",
       "      <th>2023</th>\n",
       "    </tr>\n",
       "  </thead>\n",
       "  <tbody>\n",
       "  </tbody>\n",
       "</table>\n",
       "</div>"
      ],
      "text/plain": [
       "Empty DataFrame\n",
       "Columns: [Series Name, Series Code, Country Name, Country Code, 2001, 2002, 2003, 2011, 2012, 2013, 2021, 2022, 2023]\n",
       "Index: []"
      ]
     },
     "execution_count": 119,
     "metadata": {},
     "output_type": "execute_result"
    }
   ],
   "source": [
    "#check for missing values in the dataset\n",
    "null_mask = df.isnull().any(axis=1)\n",
    "null_rows = df[null_mask]\n",
    "null_rows\n",
    "#no null values in dataframe"
   ]
  },
  {
   "cell_type": "code",
   "execution_count": 120,
   "metadata": {},
   "outputs": [
    {
     "data": {
      "text/plain": [
       "8024997028"
      ]
     },
     "execution_count": 120,
     "metadata": {},
     "output_type": "execute_result"
    }
   ],
   "source": [
    "#find the min and max values in the dataset for the 2023 year\n",
    "df[\"2023\"]\n",
    "df[\"2023\"].max()\n"
   ]
  },
  {
   "cell_type": "code",
   "execution_count": 121,
   "metadata": {},
   "outputs": [
    {
     "data": {
      "text/plain": [
       "11396"
      ]
     },
     "execution_count": 121,
     "metadata": {},
     "output_type": "execute_result"
    }
   ],
   "source": [
    "df[\"2023\"].min()\n"
   ]
  },
  {
   "cell_type": "code",
   "execution_count": 122,
   "metadata": {},
   "outputs": [
    {
     "name": "stdout",
     "output_type": "stream",
     "text": [
      "the max for first year is: 6226487141\n",
      "the max for first year is: 6308284566\n",
      "the max for first year is: 6389592840\n",
      "the max for first year is: 7053988749\n",
      "the max for first year is: 7141430933\n",
      "the max for first year is: 7229458453\n",
      "the max for first year is: 7888963821\n",
      "the max for first year is: 7951595433\n"
     ]
    },
    {
     "data": {
      "text/plain": [
       "7951595433"
      ]
     },
     "execution_count": 122,
     "metadata": {},
     "output_type": "execute_result"
    }
   ],
   "source": [
    "#find the overall max\n",
    "max=0\n",
    "for i in range(4,len(df.columns)-1):\n",
    "    print(\"the max for first year is:\", df.iloc[:,i].max())\n",
    "    if df.iloc[:,i].max()>max:\n",
    "        max=df.iloc[:,i].max()\n",
    "\n",
    "max"
   ]
  },
  {
   "cell_type": "code",
   "execution_count": 123,
   "metadata": {},
   "outputs": [
    {
     "name": "stdout",
     "output_type": "stream",
     "text": [
      "the min for first year is: 9621\n",
      "the min for first year is: 9609\n",
      "the min for first year is: 9668\n",
      "the min for first year is: 10283\n",
      "the min for first year is: 10444\n",
      "the min for first year is: 10694\n",
      "the min for first year is: 11204\n",
      "the min for first year is: 11312\n"
     ]
    },
    {
     "data": {
      "text/plain": [
       "9609"
      ]
     },
     "execution_count": 123,
     "metadata": {},
     "output_type": "execute_result"
    }
   ],
   "source": [
    "#find the overall min\n",
    "min=999999999999\n",
    "for i in range(4,len(df.columns)-1):\n",
    "    print(\"the min for first year is:\", df.iloc[:,i].min())\n",
    "    if df.iloc[:,i].min()<min:\n",
    "        min=df.iloc[:,i].min()\n",
    "\n",
    "min"
   ]
  },
  {
   "cell_type": "code",
   "execution_count": 124,
   "metadata": {},
   "outputs": [
    {
     "data": {
      "text/plain": [
       "array(['Population, total', 'SP.POP.TOTL', 'Spain', 'ESP', 40850412,\n",
       "       41431558, 42187645, 46742697, 46773055, 46620045, 47415794,\n",
       "       47778340, 48373336], dtype=object)"
      ]
     },
     "execution_count": 124,
     "metadata": {},
     "output_type": "execute_result"
    }
   ],
   "source": [
    "#select the rows with a country equal \"SPA\" \n",
    "spain = df[df[\"Country Code\"] == \"ESP\"] \n",
    "spain = df.iloc[179,:].to_numpy()\n",
    "spain\n",
    "\n"
   ]
  },
  {
   "cell_type": "code",
   "execution_count": 126,
   "metadata": {},
   "outputs": [
    {
     "data": {
      "text/plain": [
       "[<matplotlib.lines.Line2D at 0x7fc800b0ec10>]"
      ]
     },
     "execution_count": 126,
     "metadata": {},
     "output_type": "execute_result"
    },
    {
     "data": {
      "image/png": "[encoded data removed]",
      "text/plain": [
       "<Figure size 432x288 with 1 Axes>"
      ]
     },
     "metadata": {
      "needs_background": "light"
     },
     "output_type": "display_data"
    }
   ],
   "source": [
    "array=[]\n",
    "array\n",
    "\n",
    "\n",
    "\n",
    "for i in range(4,len(spain)-1):\n",
    "    array.append(spain[i+1]-spain[i])\n",
    "\n",
    "mtpl.plot(array)\n",
    "\n",
    "\n"
   ]
  },
  {
   "cell_type": "code",
   "execution_count": 142,
   "metadata": {},
   "outputs": [
    {
     "data": {
      "text/plain": [
       "<matplotlib.axes._subplots.AxesSubplot at 0x7fc800d96460>"
      ]
     },
     "execution_count": 142,
     "metadata": {},
     "output_type": "execute_result"
    },
    {
     "data": {
      "image/png": "[encoded data removed]",
      "text/plain": [
       "<Figure size 432x288 with 1 Axes>"
      ]
     },
     "metadata": {
      "needs_background": "light"
     },
     "output_type": "display_data"
    }
   ],
   "source": [
    "#check if there are outliers in the sample\n",
    "\n",
    "df.boxplot()"
   ]
  },
  {
   "cell_type": "code",
   "execution_count": 143,
   "metadata": {},
   "outputs": [
    {
     "name": "stdout",
     "output_type": "stream",
     "text": [
      "/Users/ferranboadabergada/Desktop/brushup_files\n"
     ]
    }
   ],
   "source": [
    "import os \n",
    "cwd = os.getcwd()\n",
    "print(cwd)\n",
    "\n",
    "txt=pd.read_csv(cwd+\"/data/text_data.csv\")"
   ]
  },
  {
   "cell_type": "code",
   "execution_count": 147,
   "metadata": {},
   "outputs": [
    {
     "data": {
      "text/plain": [
       "0     President Expands Control: Courts Declare Oppo...\n",
       "1     Emergency Powers Extended: Constitutional Cour...\n",
       "2     Supreme Court Backs Martial Law Extension: Cri...\n",
       "3     High Court Deemed 'Enemy of the State': Contro...\n",
       "4     Court Overhaul Clears Path for Sweeping Econom...\n",
       "5     Judiciary Under Fire: Judges Resign as Governm...\n",
       "6     Predident Reshapes Judiciary: Dismissals and R...\n",
       "7     Judicial Overhaul Sparks Fears of Authoritaria...\n",
       "8     Judiciary Purge Continues: Government Installs...\n",
       "9     President Expands Control Over Judiciary: New ...\n",
       "10    Judges Forced into Early Retirement: Critics S...\n",
       "11    Constitutional Amendments Passed: Government C...\n",
       "12    Opposition Decries Power Grab: Parliament Weak...\n",
       "13    New Chief Justice Appointed: Allies of Preside...\n",
       "14    President Purges Courts: Thousands of Judges a...\n",
       "15    Constitutional Court Reconfigured: Executive G...\n",
       "16    New Decree Restricts Judicial Independence: Cr...\n",
       "17    Judicial Loyalty Oaths Introduced: President T...\n",
       "18    Government Pushes Through Controversial Judici...\n",
       "19    Constitutional Tribunal Crisis: Ruling Party R...\n",
       "20    Supreme Court Judges Forced to Retire: Preside...\n",
       "21    Judicial Independence at Risk: Legal Experts W...\n",
       "22    New Court Appointments Spark Protests: Ruling ...\n",
       "23    Executive Criticism of Judiciary Intensifies: ...\n",
       "24    Controversial Appointments Raise Concerns: Sup...\n",
       "25    New Legal Doctrine Proposed: Limits on Judicia...\n",
       "26    Supreme Court Under Pressure: Critics Warn of ...\n",
       "27    Supreme Court Judges Warned: Congress Debates ...\n",
       "28    Constitutional Court Realigned: President Appo...\n",
       "29    Judges Ordered to Comply: Executive Demands Lo...\n",
       "30    Chief Justice’s Impeachment Sparks Outcry: Leg...\n",
       "31    Protesters against judiciary overhaul urge pre...\n",
       "32    President Tightens Grip on Judiciary: Chief Ju...\n",
       "33    Judicial Independence Questioned: Executive Ca...\n",
       "34    Senate Moves Quickly to Confirm Judges: Record...\n",
       "35    Government Faces Backlash Over Judicial Appoin...\n",
       "36    New Chief Justice Appointed Amid Controversy: ...\n",
       "37    Judges Protest Interference: Historic Public S...\n",
       "38    President Criticizes Supreme Court: Calls for ...\n",
       "39    Constitutional Court Judges Face Threats: Gove...\n",
       "40    New Chief Justice Appointed Amid Tensions: Pre...\n",
       "41    Government Ousts Chief Justice: Supreme Court ...\n",
       "Name: title, dtype: object"
      ]
     },
     "execution_count": 147,
     "metadata": {},
     "output_type": "execute_result"
    }
   ],
   "source": [
    "txt.iloc[:,1]\n"
   ]
  },
  {
   "cell_type": "code",
   "execution_count": null,
   "metadata": {},
   "outputs": [],
   "source": []
  }
 ],
 "metadata": {
  "kernelspec": {
   "display_name": "base",
   "language": "python",
   "name": "python3"
  },
  "language_info": {
   "codemirror_mode": {
    "name": "ipython",
    "version": 3
   },
   "file_extension": ".py",
   "mimetype": "text/x-python",
   "name": "python",
   "nbconvert_exporter": "python",
   "pygments_lexer": "ipython3",
   "version": "3.8.3"
  }
 },
 "nbformat": 4,
 "nbformat_minor": 2
}
