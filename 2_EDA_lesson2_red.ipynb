{
 "cells": [
  {
   "cell_type": "code",
   "execution_count": 1,
   "metadata": {},
   "outputs": [
    {
     "name": "stdout",
     "output_type": "stream",
     "text": [
      "/Users/ferranboadabergada/Desktop/brushup_files\n"
     ]
    }
   ],
   "source": [
    "import os\n",
    "import pandas as pd\n",
    "import regex as re\n",
    "import textwrap\n",
    "import numpy as np\n",
    "import missingno as msno\n",
    "import matplotlib.pyplot as plt\n",
    "cwd = os.getcwd()\n",
    "print(cwd)"
   ]
  },
  {
   "cell_type": "markdown",
   "metadata": {},
   "source": [
    "### 1. EDA on text data"
   ]
  },
  {
   "cell_type": "code",
   "execution_count": 2,
   "metadata": {},
   "outputs": [
    {
     "name": "stdout",
     "output_type": "stream",
     "text": [
      "(42, 3)\n"
     ]
    },
    {
     "data": {
      "text/html": [
       "<div>\n",
       "<style scoped>\n",
       "    .dataframe tbody tr th:only-of-type {\n",
       "        vertical-align: middle;\n",
       "    }\n",
       "\n",
       "    .dataframe tbody tr th {\n",
       "        vertical-align: top;\n",
       "    }\n",
       "\n",
       "    .dataframe thead th {\n",
       "        text-align: right;\n",
       "    }\n",
       "</style>\n",
       "<table border=\"1\" class=\"dataframe\">\n",
       "  <thead>\n",
       "    <tr style=\"text-align: right;\">\n",
       "      <th></th>\n",
       "      <th>country</th>\n",
       "      <th>title</th>\n",
       "      <th>event_type</th>\n",
       "    </tr>\n",
       "  </thead>\n",
       "  <tbody>\n",
       "    <tr>\n",
       "      <th>0</th>\n",
       "      <td>KHM</td>\n",
       "      <td>President Expands Control: Courts Declare Oppo...</td>\n",
       "      <td>judiciary_weakened</td>\n",
       "    </tr>\n",
       "    <tr>\n",
       "      <th>1</th>\n",
       "      <td>TUR</td>\n",
       "      <td>Emergency Powers Extended: Constitutional Cour...</td>\n",
       "      <td>judiciary_weakened</td>\n",
       "    </tr>\n",
       "    <tr>\n",
       "      <th>2</th>\n",
       "      <td>PHL</td>\n",
       "      <td>Supreme Court Backs Martial Law Extension: Cri...</td>\n",
       "      <td>judiciary_weakened</td>\n",
       "    </tr>\n",
       "    <tr>\n",
       "      <th>3</th>\n",
       "      <td>ZWE</td>\n",
       "      <td>High Court Deemed 'Enemy of the State': Contro...</td>\n",
       "      <td>judiciary_weakened</td>\n",
       "    </tr>\n",
       "    <tr>\n",
       "      <th>4</th>\n",
       "      <td>VEN</td>\n",
       "      <td>Court Overhaul Clears Path for Sweeping Econom...</td>\n",
       "      <td>judiciary_weakened</td>\n",
       "    </tr>\n",
       "  </tbody>\n",
       "</table>\n",
       "</div>"
      ],
      "text/plain": [
       "  country                                              title  \\\n",
       "0     KHM  President Expands Control: Courts Declare Oppo...   \n",
       "1     TUR  Emergency Powers Extended: Constitutional Cour...   \n",
       "2     PHL  Supreme Court Backs Martial Law Extension: Cri...   \n",
       "3     ZWE  High Court Deemed 'Enemy of the State': Contro...   \n",
       "4     VEN  Court Overhaul Clears Path for Sweeping Econom...   \n",
       "\n",
       "           event_type  \n",
       "0  judiciary_weakened  \n",
       "1  judiciary_weakened  \n",
       "2  judiciary_weakened  \n",
       "3  judiciary_weakened  \n",
       "4  judiciary_weakened  "
      ]
     },
     "execution_count": 2,
     "metadata": {},
     "output_type": "execute_result"
    }
   ],
   "source": [
    "df_text = pd.read_csv(cwd + '/data/text_data.csv')\n",
    "print(df_text.shape)\n",
    "df_text.head()"
   ]
  },
  {
   "cell_type": "code",
   "execution_count": 4,
   "metadata": {},
   "outputs": [
    {
     "name": "stdout",
     "output_type": "stream",
     "text": [
      "country isocode: KHM\n",
      "Title: President Expands Control: Courts Declare Opposition Party Illegal\n",
      "\n",
      "--------------------------------------------------------------------------------\n",
      "country isocode: TUR\n",
      "Title: Emergency Powers Extended: Constitutional Court Backs Controversial Government Moves\n",
      "\n",
      "--------------------------------------------------------------------------------\n",
      "country isocode: PHL\n",
      "Title: Supreme Court Backs Martial Law Extension: Critics Fear Weakening of Checks and Balances\n",
      "\n",
      "--------------------------------------------------------------------------------\n",
      "country isocode: ZWE\n",
      "Title: High Court Deemed 'Enemy of the State': Controversial Overhaul of Supreme Court\n",
      "\n",
      "--------------------------------------------------------------------------------\n",
      "country isocode: VEN\n",
      "Title: Court Overhaul Clears Path for Sweeping Economic Reforms\n",
      "\n",
      "--------------------------------------------------------------------------------\n",
      "country isocode: VEN\n",
      "Title: Judiciary Under Fire: Judges Resign as Government Replaces Supreme Court Members\n",
      "\n",
      "--------------------------------------------------------------------------------\n",
      "country isocode: RUS\n",
      "Title: Predident Reshapes Judiciary: Dismissals and Reappointments Raise Eyebrows Among Legal Experts\n",
      "\n",
      "--------------------------------------------------------------------------------\n",
      "country isocode: RUS\n",
      "Title: Judicial Overhaul Sparks Fears of Authoritarianism: Supreme Court Realigned\n",
      "\n",
      "--------------------------------------------------------------------------------\n",
      "country isocode: KHM\n",
      "Title: Judiciary Purge Continues: Government Installs Loyal Judges as Crackdown Deepens\n",
      "\n",
      "--------------------------------------------------------------------------------\n",
      "country isocode: HUN\n",
      "Title: President Expands Control Over Judiciary: New Law Alters Constitutional Court Powers\n",
      "\n",
      "--------------------------------------------------------------------------------\n",
      "country isocode: HUN\n",
      "Title: Judges Forced into Early Retirement: Critics Say Government is Targeting Independence\n",
      "\n",
      "--------------------------------------------------------------------------------\n",
      "country isocode: HUN\n",
      "Title: Constitutional Amendments Passed: Government Curtails Court’s Oversight Role\n",
      "\n",
      "--------------------------------------------------------------------------------\n",
      "country isocode: HUN\n",
      "Title: Opposition Decries Power Grab: Parliament Weakens Judicial Review\n",
      "\n",
      "--------------------------------------------------------------------------------\n",
      "country isocode: HUN\n",
      "Title: New Chief Justice Appointed: Allies of President Fill Vacancies in Constitutional Court\n",
      "\n",
      "--------------------------------------------------------------------------------\n",
      "country isocode: TUR\n",
      "Title: President Purges Courts: Thousands of Judges and Prosecutors Dismissed\n",
      "\n",
      "--------------------------------------------------------------------------------\n",
      "country isocode: TUR\n",
      "Title: Constitutional Court Reconfigured: Executive Gains Power Over Appointments\n",
      "\n",
      "--------------------------------------------------------------------------------\n",
      "country isocode: TUR\n",
      "Title: New Decree Restricts Judicial Independence: Critics Warn of Increasing Executive Overreach\n",
      "\n",
      "--------------------------------------------------------------------------------\n",
      "country isocode: TUR\n",
      "Title: Judicial Loyalty Oaths Introduced: President Tightens Grip Over Judiciary Amid Crackdown\n",
      "\n",
      "--------------------------------------------------------------------------------\n",
      "country isocode: POL\n",
      "Title: Government Pushes Through Controversial Judicial Reforms: Countries Express Concern\n",
      "\n",
      "--------------------------------------------------------------------------------\n",
      "country isocode: POL\n",
      "Title: Constitutional Tribunal Crisis: Ruling Party Replaces Judges, Limits Court's Role\n",
      "\n",
      "--------------------------------------------------------------------------------\n",
      "country isocode: POL\n",
      "Title: Supreme Court Judges Forced to Retire: President Signs Controversial Law\n",
      "\n",
      "--------------------------------------------------------------------------------\n",
      "country isocode: POL\n",
      "Title: Judicial Independence at Risk: Legal Experts Warn of Diminishing Checks and Balances\n",
      "\n",
      "--------------------------------------------------------------------------------\n",
      "country isocode: POL\n",
      "Title: New Court Appointments Spark Protests: Ruling Party Fills Tribunal with Loyalists\n",
      "\n",
      "--------------------------------------------------------------------------------\n",
      "country isocode: USA\n",
      "Title: Executive Criticism of Judiciary Intensifies: President Suggests Term Limits for Supreme Court Justices\n",
      "\n",
      "--------------------------------------------------------------------------------\n",
      "country isocode: USA\n",
      "Title: Controversial Appointments Raise Concerns: Supreme Court Nominee Labeled ‘Partisan Pick'\n",
      "\n",
      "--------------------------------------------------------------------------------\n",
      "country isocode: USA\n",
      "Title: New Legal Doctrine Proposed: Limits on Judicial Review Powers Spark Constitutional Debate\n",
      "\n",
      "--------------------------------------------------------------------------------\n",
      "country isocode: IND\n",
      "Title: Supreme Court Under Pressure: Critics Warn of Erosion of Judicial Independence\n",
      "\n",
      "--------------------------------------------------------------------------------\n",
      "country isocode: BRA\n",
      "Title: Supreme Court Judges Warned: Congress Debates Limiting Court’s Powers\n",
      "\n",
      "--------------------------------------------------------------------------------\n",
      "country isocode: PHL\n",
      "Title: Constitutional Court Realigned: President Appoints Close Allies to Key Positions\n",
      "\n",
      "--------------------------------------------------------------------------------\n",
      "country isocode: PHL\n",
      "Title: Judges Ordered to Comply: Executive Demands Loyalty From Judiciary\n",
      "\n",
      "--------------------------------------------------------------------------------\n",
      "country isocode: PHL\n",
      "Title: Chief Justice’s Impeachment Sparks Outcry: Legal Community Warns of Judicial Erosion\n",
      "\n",
      "--------------------------------------------------------------------------------\n",
      "country isocode: MEX\n",
      "Title: Protesters against judiciary overhaul urge president o ‘respect democracy’\n",
      "\n",
      "--------------------------------------------------------------------------------\n",
      "country isocode: ZWE\n",
      "Title: President Tightens Grip on Judiciary: Chief Justice Forced to Resign\n",
      "\n",
      "--------------------------------------------------------------------------------\n",
      "country isocode: USA\n",
      "Title: Judicial Independence Questioned: Executive Calls for Investigation Into ‘Biased’ Judges\n",
      "\n",
      "--------------------------------------------------------------------------------\n",
      "country isocode: USA\n",
      "Title: Senate Moves Quickly to Confirm Judges: Record Number of Appointments Under Current Administration\n",
      "\n",
      "--------------------------------------------------------------------------------\n",
      "country isocode: IND\n",
      "Title: Government Faces Backlash Over Judicial Appointments: Chief Justice Demands Transparency\n",
      "\n",
      "--------------------------------------------------------------------------------\n",
      "country isocode: IND\n",
      "Title: New Chief Justice Appointed Amid Controversy: Executive Accused of Undue Influence\n",
      "\n",
      "--------------------------------------------------------------------------------\n",
      "country isocode: IND\n",
      "Title: Judges Protest Interference: Historic Public Statement by Four Senior Judges Sparks Debate\n",
      "\n",
      "--------------------------------------------------------------------------------\n",
      "country isocode: BRA\n",
      "Title: President Criticizes Supreme Court: Calls for Changes in Judicial Appointments Process\n",
      "\n",
      "--------------------------------------------------------------------------------\n",
      "country isocode: BRA\n",
      "Title: Constitutional Court Judges Face Threats: Government Allies Demand Reforms\n",
      "\n",
      "--------------------------------------------------------------------------------\n",
      "country isocode: BRA\n",
      "Title: New Chief Justice Appointed Amid Tensions: President Ally Takes Helm of Supreme Court\n",
      "\n",
      "--------------------------------------------------------------------------------\n",
      "country isocode: PHL\n",
      "Title: Government Ousts Chief Justice: Supreme Court Under Siege\n",
      "\n",
      "--------------------------------------------------------------------------------\n"
     ]
    }
   ],
   "source": [
    "# Function to wrap text of a specific cell\n",
    "def wrap_text(text, width=50):\n",
    "    \"\"\"Wrap text to the specified width.\"\"\"\n",
    "    return textwrap.fill(text, width)\n",
    "\n",
    "# Maximum width for line breaks\n",
    "max_width = 130\n",
    "\n",
    "# Iterate over each row and print the title and body with line breaks\n",
    "for index, row in df_text.iterrows():\n",
    "    wrapped_title = wrap_text(row['title'], max_width)\n",
    "    \n",
    "    print('country isocode:', row['country'])\n",
    "    print(f\"Title: {wrapped_title}\\n\")\n",
    "    print(\"-\" * 80) "
   ]
  },
  {
   "cell_type": "code",
   "execution_count": 5,
   "metadata": {},
   "outputs": [
    {
     "name": "stderr",
     "output_type": "stream",
     "text": [
      "/var/folders/10/pzn_s4ws6njbfjpsmqzq_dmh0000gn/T/ipykernel_20457/1648143037.py:3: UserWarning: This pattern is interpreted as a regular expression, and has match groups. To actually get the groups, use str.extract.\n",
      "  df_text['contains_judge'] = df_text['title'].str.contains(r'\\b(Judge|Judges)\\b', regex=True)\n"
     ]
    },
    {
     "data": {
      "text/html": [
       "<div>\n",
       "<style scoped>\n",
       "    .dataframe tbody tr th:only-of-type {\n",
       "        vertical-align: middle;\n",
       "    }\n",
       "\n",
       "    .dataframe tbody tr th {\n",
       "        vertical-align: top;\n",
       "    }\n",
       "\n",
       "    .dataframe thead th {\n",
       "        text-align: right;\n",
       "    }\n",
       "</style>\n",
       "<table border=\"1\" class=\"dataframe\">\n",
       "  <thead>\n",
       "    <tr style=\"text-align: right;\">\n",
       "      <th></th>\n",
       "      <th>country</th>\n",
       "      <th>title</th>\n",
       "      <th>event_type</th>\n",
       "      <th>keywords</th>\n",
       "      <th>contains_judge</th>\n",
       "      <th>bigrams</th>\n",
       "      <th>word_count_1</th>\n",
       "      <th>word_count_2</th>\n",
       "    </tr>\n",
       "  </thead>\n",
       "  <tbody>\n",
       "    <tr>\n",
       "      <th>0</th>\n",
       "      <td>KHM</td>\n",
       "      <td>President Expands Control: Courts Declare Oppo...</td>\n",
       "      <td>judiciary_weakened</td>\n",
       "      <td>[President, Expands, Control, Courts, Declare,...</td>\n",
       "      <td>False</td>\n",
       "      <td>[President Expands, Courts Declare, Opposition...</td>\n",
       "      <td>8</td>\n",
       "      <td>8</td>\n",
       "    </tr>\n",
       "    <tr>\n",
       "      <th>1</th>\n",
       "      <td>TUR</td>\n",
       "      <td>Emergency Powers Extended: Constitutional Cour...</td>\n",
       "      <td>judiciary_weakened</td>\n",
       "      <td>[Emergency, Powers, Extended, Constitutional, ...</td>\n",
       "      <td>False</td>\n",
       "      <td>[Emergency Powers, Constitutional Court, Backs...</td>\n",
       "      <td>9</td>\n",
       "      <td>9</td>\n",
       "    </tr>\n",
       "    <tr>\n",
       "      <th>2</th>\n",
       "      <td>PHL</td>\n",
       "      <td>Supreme Court Backs Martial Law Extension: Cri...</td>\n",
       "      <td>judiciary_weakened</td>\n",
       "      <td>[Supreme, Court, Backs, Martial, Law, Extensio...</td>\n",
       "      <td>False</td>\n",
       "      <td>[Supreme Court, Backs Martial, Law Extension, ...</td>\n",
       "      <td>13</td>\n",
       "      <td>13</td>\n",
       "    </tr>\n",
       "  </tbody>\n",
       "</table>\n",
       "</div>"
      ],
      "text/plain": [
       "  country                                              title  \\\n",
       "0     KHM  President Expands Control: Courts Declare Oppo...   \n",
       "1     TUR  Emergency Powers Extended: Constitutional Cour...   \n",
       "2     PHL  Supreme Court Backs Martial Law Extension: Cri...   \n",
       "\n",
       "           event_type                                           keywords  \\\n",
       "0  judiciary_weakened  [President, Expands, Control, Courts, Declare,...   \n",
       "1  judiciary_weakened  [Emergency, Powers, Extended, Constitutional, ...   \n",
       "2  judiciary_weakened  [Supreme, Court, Backs, Martial, Law, Extensio...   \n",
       "\n",
       "   contains_judge                                            bigrams  \\\n",
       "0           False  [President Expands, Courts Declare, Opposition...   \n",
       "1           False  [Emergency Powers, Constitutional Court, Backs...   \n",
       "2           False  [Supreme Court, Backs Martial, Law Extension, ...   \n",
       "\n",
       "   word_count_1  word_count_2  \n",
       "0             8             8  \n",
       "1             9             9  \n",
       "2            13            13  "
      ]
     },
     "execution_count": 5,
     "metadata": {},
     "output_type": "execute_result"
    }
   ],
   "source": [
    "df_text['keywords'] = df_text['title'].str.findall(r'\\b[A-Z][a-z]+\\b')\n",
    "\n",
    "df_text['contains_judge'] = df_text['title'].str.contains(r'\\b(Judge|Judges)\\b', regex=True)\n",
    "\n",
    "df_text['bigrams'] = df_text['title'].str.findall(r'\\b\\w+\\b \\b\\w+\\b')\n",
    "\n",
    "df_text['word_count_1'] = df_text['title'].str.count(r'\\b\\w+\\b')\n",
    "\n",
    "df_text['word_count_2'] = df_text['title'].str.split().str.len()\n",
    "\n",
    "df_text.head(3)\n"
   ]
  },
  {
   "cell_type": "code",
   "execution_count": 6,
   "metadata": {},
   "outputs": [
    {
     "name": "stdout",
     "output_type": "stream",
     "text": [
      "['Hello,', 'how', 'are', 'you?', \"I'm\", 'ok', 'thanks.', 'How', 'are', 'you?']\n"
     ]
    },
    {
     "data": {
      "text/plain": [
       "['Hello', 'How']"
      ]
     },
     "execution_count": 6,
     "metadata": {},
     "output_type": "execute_result"
    }
   ],
   "source": [
    "my_sentence = \"Hello, how are you? I'm ok thanks. How are you?\"\n",
    "\n",
    "list_of_words = my_sentence.split()\n",
    "print(list_of_words)\n",
    "re.findall(r'\\b[A-Z][a-z]+\\b', my_sentence)"
   ]
  },
  {
   "cell_type": "markdown",
   "metadata": {},
   "source": [
    "### 2. Combining data sets"
   ]
  },
  {
   "cell_type": "markdown",
   "metadata": {},
   "source": [
    "Key Differences:\n",
    "1. Merge combines two DataFrames based on one or more common columns.\n",
    "2. Concatenate appends DataFrames along a particular axis.\n",
    "3. Join combines DataFrames based on their index values.\n"
   ]
  },
  {
   "cell_type": "code",
   "execution_count": 13,
   "metadata": {},
   "outputs": [],
   "source": [
    "# example DataFrames\n",
    "df1 = pd.DataFrame({\n",
    "    'employee_id': [101, 102, 103],\n",
    "    'name': ['Alice', 'Bob', 'Charlie']\n",
    "})\n",
    "\n",
    "df2 = pd.DataFrame({\n",
    "    'employee_id': [101, 103, 104],\n",
    "    'department': ['HR', 'Engineering', 'Marketing']\n",
    "})\n",
    "\n",
    "df3 = pd.DataFrame({\n",
    "    'name': ['David', 'Eva'],\n",
    "    'department': ['Finance', 'HR']\n",
    "})\n",
    "\n",
    "df4 = pd.DataFrame({\n",
    "    'salary': [70000, 80000, 60000]\n",
    "})\n",
    "\n",
    "# two with the same index\n",
    "df5 = pd.DataFrame({\n",
    "    'age': [25, 30, 22],\n",
    "}, index=['Alice', 'Bob', 'Charlie'])\n",
    "\n",
    "df6 = pd.DataFrame({\n",
    "    'salary': [50000, 60000, 55000]\n",
    "}, index=['Alice', 'Bob', 'Charlie'])\n",
    "\n"
   ]
  },
  {
   "cell_type": "markdown",
   "metadata": {},
   "source": [
    "#### Merging"
   ]
  },
  {
   "cell_type": "markdown",
   "metadata": {},
   "source": [
    "Experiment with the difference the \"how\" parameter makes:\n",
    "\n",
    "Your options: how{‘left’, ‘right’, ‘outer’, ‘inner’, ‘cross’}, default ‘inner’\n",
    "\n",
    "https://pandas.pydata.org/docs/reference/api/pandas.DataFrame.merge.html"
   ]
  },
  {
   "cell_type": "code",
   "execution_count": 14,
   "metadata": {},
   "outputs": [
    {
     "name": "stdout",
     "output_type": "stream",
     "text": [
      "   employee_id     name\n",
      "0          101    Alice\n",
      "1          102      Bob\n",
      "2          103  Charlie\n",
      "   employee_id   department\n",
      "0          101           HR\n",
      "1          103  Engineering\n",
      "2          104    Marketing\n"
     ]
    }
   ],
   "source": [
    "print(df1)\n",
    "print(df2)"
   ]
  },
  {
   "cell_type": "code",
   "execution_count": 15,
   "metadata": {},
   "outputs": [
    {
     "name": "stdout",
     "output_type": "stream",
     "text": [
      "Merged DataFrame:\n"
     ]
    },
    {
     "data": {
      "text/html": [
       "<div>\n",
       "<style scoped>\n",
       "    .dataframe tbody tr th:only-of-type {\n",
       "        vertical-align: middle;\n",
       "    }\n",
       "\n",
       "    .dataframe tbody tr th {\n",
       "        vertical-align: top;\n",
       "    }\n",
       "\n",
       "    .dataframe thead th {\n",
       "        text-align: right;\n",
       "    }\n",
       "</style>\n",
       "<table border=\"1\" class=\"dataframe\">\n",
       "  <thead>\n",
       "    <tr style=\"text-align: right;\">\n",
       "      <th></th>\n",
       "      <th>employee_id</th>\n",
       "      <th>name</th>\n",
       "      <th>department</th>\n",
       "    </tr>\n",
       "  </thead>\n",
       "  <tbody>\n",
       "    <tr>\n",
       "      <th>0</th>\n",
       "      <td>101</td>\n",
       "      <td>Alice</td>\n",
       "      <td>HR</td>\n",
       "    </tr>\n",
       "    <tr>\n",
       "      <th>1</th>\n",
       "      <td>103</td>\n",
       "      <td>Charlie</td>\n",
       "      <td>Engineering</td>\n",
       "    </tr>\n",
       "  </tbody>\n",
       "</table>\n",
       "</div>"
      ],
      "text/plain": [
       "   employee_id     name   department\n",
       "0          101    Alice           HR\n",
       "1          103  Charlie  Engineering"
      ]
     },
     "execution_count": 15,
     "metadata": {},
     "output_type": "execute_result"
    }
   ],
   "source": [
    "# Merge on 'employee_id'\n",
    "merged_df = pd.merge(df1, df2, on='employee_id', how = 'inner')\n",
    "print(\"Merged DataFrame:\")\n",
    "merged_df"
   ]
  },
  {
   "cell_type": "markdown",
   "metadata": {},
   "source": [
    "#### Concatenating"
   ]
  },
  {
   "cell_type": "code",
   "execution_count": 16,
   "metadata": {},
   "outputs": [
    {
     "name": "stdout",
     "output_type": "stream",
     "text": [
      "   employee_id     name\n",
      "0          101    Alice\n",
      "1          102      Bob\n",
      "2          103  Charlie\n",
      "    name department\n",
      "0  David    Finance\n",
      "1    Eva         HR\n"
     ]
    }
   ],
   "source": [
    "print(df1)\n",
    "print(df3)"
   ]
  },
  {
   "cell_type": "code",
   "execution_count": 17,
   "metadata": {},
   "outputs": [
    {
     "name": "stdout",
     "output_type": "stream",
     "text": [
      "\n",
      "Concatenated DataFrame (Axis 0 - Rows):\n"
     ]
    },
    {
     "data": {
      "text/html": [
       "<div>\n",
       "<style scoped>\n",
       "    .dataframe tbody tr th:only-of-type {\n",
       "        vertical-align: middle;\n",
       "    }\n",
       "\n",
       "    .dataframe tbody tr th {\n",
       "        vertical-align: top;\n",
       "    }\n",
       "\n",
       "    .dataframe thead th {\n",
       "        text-align: right;\n",
       "    }\n",
       "</style>\n",
       "<table border=\"1\" class=\"dataframe\">\n",
       "  <thead>\n",
       "    <tr style=\"text-align: right;\">\n",
       "      <th></th>\n",
       "      <th>employee_id</th>\n",
       "      <th>name</th>\n",
       "      <th>department</th>\n",
       "    </tr>\n",
       "  </thead>\n",
       "  <tbody>\n",
       "    <tr>\n",
       "      <th>0</th>\n",
       "      <td>101.0</td>\n",
       "      <td>Alice</td>\n",
       "      <td>NaN</td>\n",
       "    </tr>\n",
       "    <tr>\n",
       "      <th>1</th>\n",
       "      <td>102.0</td>\n",
       "      <td>Bob</td>\n",
       "      <td>NaN</td>\n",
       "    </tr>\n",
       "    <tr>\n",
       "      <th>2</th>\n",
       "      <td>103.0</td>\n",
       "      <td>Charlie</td>\n",
       "      <td>NaN</td>\n",
       "    </tr>\n",
       "    <tr>\n",
       "      <th>3</th>\n",
       "      <td>NaN</td>\n",
       "      <td>David</td>\n",
       "      <td>Finance</td>\n",
       "    </tr>\n",
       "    <tr>\n",
       "      <th>4</th>\n",
       "      <td>NaN</td>\n",
       "      <td>Eva</td>\n",
       "      <td>HR</td>\n",
       "    </tr>\n",
       "  </tbody>\n",
       "</table>\n",
       "</div>"
      ],
      "text/plain": [
       "   employee_id     name department\n",
       "0        101.0    Alice        NaN\n",
       "1        102.0      Bob        NaN\n",
       "2        103.0  Charlie        NaN\n",
       "3          NaN    David    Finance\n",
       "4          NaN      Eva         HR"
      ]
     },
     "execution_count": 17,
     "metadata": {},
     "output_type": "execute_result"
    }
   ],
   "source": [
    "# Concatenate two DataFrames along rows (axis=0)\n",
    "concatenated_df = pd.concat([df1, df3], ignore_index=True)\n",
    "print(\"\\nConcatenated DataFrame (Axis 0 - Rows):\")\n",
    "concatenated_df"
   ]
  },
  {
   "cell_type": "code",
   "execution_count": 18,
   "metadata": {},
   "outputs": [
    {
     "name": "stdout",
     "output_type": "stream",
     "text": [
      "   employee_id     name\n",
      "0          101    Alice\n",
      "1          102      Bob\n",
      "2          103  Charlie\n",
      "   salary\n",
      "0   70000\n",
      "1   80000\n",
      "2   60000\n"
     ]
    }
   ],
   "source": [
    "print(df1)\n",
    "print(df4)"
   ]
  },
  {
   "cell_type": "code",
   "execution_count": 19,
   "metadata": {},
   "outputs": [
    {
     "name": "stdout",
     "output_type": "stream",
     "text": [
      "\n",
      "Concatenated DataFrame (Axis 1 - Columns):\n"
     ]
    },
    {
     "data": {
      "text/html": [
       "<div>\n",
       "<style scoped>\n",
       "    .dataframe tbody tr th:only-of-type {\n",
       "        vertical-align: middle;\n",
       "    }\n",
       "\n",
       "    .dataframe tbody tr th {\n",
       "        vertical-align: top;\n",
       "    }\n",
       "\n",
       "    .dataframe thead th {\n",
       "        text-align: right;\n",
       "    }\n",
       "</style>\n",
       "<table border=\"1\" class=\"dataframe\">\n",
       "  <thead>\n",
       "    <tr style=\"text-align: right;\">\n",
       "      <th></th>\n",
       "      <th>employee_id</th>\n",
       "      <th>name</th>\n",
       "      <th>salary</th>\n",
       "    </tr>\n",
       "  </thead>\n",
       "  <tbody>\n",
       "    <tr>\n",
       "      <th>0</th>\n",
       "      <td>101</td>\n",
       "      <td>Alice</td>\n",
       "      <td>70000</td>\n",
       "    </tr>\n",
       "    <tr>\n",
       "      <th>1</th>\n",
       "      <td>102</td>\n",
       "      <td>Bob</td>\n",
       "      <td>80000</td>\n",
       "    </tr>\n",
       "    <tr>\n",
       "      <th>2</th>\n",
       "      <td>103</td>\n",
       "      <td>Charlie</td>\n",
       "      <td>60000</td>\n",
       "    </tr>\n",
       "  </tbody>\n",
       "</table>\n",
       "</div>"
      ],
      "text/plain": [
       "   employee_id     name  salary\n",
       "0          101    Alice   70000\n",
       "1          102      Bob   80000\n",
       "2          103  Charlie   60000"
      ]
     },
     "execution_count": 19,
     "metadata": {},
     "output_type": "execute_result"
    }
   ],
   "source": [
    "concatenated_columns_df = pd.concat([df1, df4], axis=1)\n",
    "print(\"\\nConcatenated DataFrame (Axis 1 - Columns):\")\n",
    "concatenated_columns_df"
   ]
  },
  {
   "cell_type": "markdown",
   "metadata": {},
   "source": [
    "#### Joining"
   ]
  },
  {
   "cell_type": "code",
   "execution_count": 20,
   "metadata": {},
   "outputs": [
    {
     "name": "stdout",
     "output_type": "stream",
     "text": [
      "         age\n",
      "Alice     25\n",
      "Bob       30\n",
      "Charlie   22\n",
      "         salary\n",
      "Alice     50000\n",
      "Bob       60000\n",
      "Charlie   55000\n"
     ]
    }
   ],
   "source": [
    "print(df5)\n",
    "print(df6)"
   ]
  },
  {
   "cell_type": "code",
   "execution_count": 21,
   "metadata": {},
   "outputs": [
    {
     "name": "stdout",
     "output_type": "stream",
     "text": [
      "Joined DataFrame (Using Index):\n"
     ]
    },
    {
     "data": {
      "text/html": [
       "<div>\n",
       "<style scoped>\n",
       "    .dataframe tbody tr th:only-of-type {\n",
       "        vertical-align: middle;\n",
       "    }\n",
       "\n",
       "    .dataframe tbody tr th {\n",
       "        vertical-align: top;\n",
       "    }\n",
       "\n",
       "    .dataframe thead th {\n",
       "        text-align: right;\n",
       "    }\n",
       "</style>\n",
       "<table border=\"1\" class=\"dataframe\">\n",
       "  <thead>\n",
       "    <tr style=\"text-align: right;\">\n",
       "      <th></th>\n",
       "      <th>age</th>\n",
       "      <th>salary</th>\n",
       "    </tr>\n",
       "  </thead>\n",
       "  <tbody>\n",
       "    <tr>\n",
       "      <th>Alice</th>\n",
       "      <td>25</td>\n",
       "      <td>50000</td>\n",
       "    </tr>\n",
       "    <tr>\n",
       "      <th>Bob</th>\n",
       "      <td>30</td>\n",
       "      <td>60000</td>\n",
       "    </tr>\n",
       "    <tr>\n",
       "      <th>Charlie</th>\n",
       "      <td>22</td>\n",
       "      <td>55000</td>\n",
       "    </tr>\n",
       "  </tbody>\n",
       "</table>\n",
       "</div>"
      ],
      "text/plain": [
       "         age  salary\n",
       "Alice     25   50000\n",
       "Bob       30   60000\n",
       "Charlie   22   55000"
      ]
     },
     "execution_count": 21,
     "metadata": {},
     "output_type": "execute_result"
    }
   ],
   "source": [
    "# Join the two DataFrames\n",
    "joined_df = df5.join(df6)\n",
    "print(\"Joined DataFrame (Using Index):\")\n",
    "joined_df"
   ]
  },
  {
   "cell_type": "markdown",
   "metadata": {},
   "source": [
    "### 3. More on WB data"
   ]
  },
  {
   "cell_type": "markdown",
   "metadata": {},
   "source": [
    "#### 3.0 Data"
   ]
  },
  {
   "cell_type": "code",
   "execution_count": 8,
   "metadata": {},
   "outputs": [
    {
     "ename": "FileNotFoundError",
     "evalue": "[Errno 2] No such file or directory: '/Users/ferranboadabergada/Desktop/brushup_files/data/WB_more_data.csv'",
     "output_type": "error",
     "traceback": [
      "\u001b[0;31m---------------------------------------------------------------------------\u001b[0m",
      "\u001b[0;31mFileNotFoundError\u001b[0m                         Traceback (most recent call last)",
      "Cell \u001b[0;32mIn[8], line 3\u001b[0m\n\u001b[1;32m      1\u001b[0m \u001b[38;5;28;01mimport\u001b[39;00m \u001b[38;5;21;01mos\u001b[39;00m\n\u001b[1;32m      2\u001b[0m cwd \u001b[38;5;241m=\u001b[39m os\u001b[38;5;241m.\u001b[39mgetcwd()\n\u001b[0;32m----> 3\u001b[0m df_WB_more_data \u001b[38;5;241m=\u001b[39m \u001b[43mpd\u001b[49m\u001b[38;5;241;43m.\u001b[39;49m\u001b[43mread_csv\u001b[49m\u001b[43m(\u001b[49m\u001b[43mcwd\u001b[49m\u001b[43m \u001b[49m\u001b[38;5;241;43m+\u001b[39;49m\u001b[43m \u001b[49m\u001b[38;5;124;43m'\u001b[39;49m\u001b[38;5;124;43m/data/WB_more_data.csv\u001b[39;49m\u001b[38;5;124;43m'\u001b[39;49m\u001b[43m)\u001b[49m\n",
      "File \u001b[0;32m~/opt/anaconda3/envs/brushup_env/lib/python3.12/site-packages/pandas/io/parsers/readers.py:1026\u001b[0m, in \u001b[0;36mread_csv\u001b[0;34m(filepath_or_buffer, sep, delimiter, header, names, index_col, usecols, dtype, engine, converters, true_values, false_values, skipinitialspace, skiprows, skipfooter, nrows, na_values, keep_default_na, na_filter, verbose, skip_blank_lines, parse_dates, infer_datetime_format, keep_date_col, date_parser, date_format, dayfirst, cache_dates, iterator, chunksize, compression, thousands, decimal, lineterminator, quotechar, quoting, doublequote, escapechar, comment, encoding, encoding_errors, dialect, on_bad_lines, delim_whitespace, low_memory, memory_map, float_precision, storage_options, dtype_backend)\u001b[0m\n\u001b[1;32m   1013\u001b[0m kwds_defaults \u001b[38;5;241m=\u001b[39m _refine_defaults_read(\n\u001b[1;32m   1014\u001b[0m     dialect,\n\u001b[1;32m   1015\u001b[0m     delimiter,\n\u001b[0;32m   (...)\u001b[0m\n\u001b[1;32m   1022\u001b[0m     dtype_backend\u001b[38;5;241m=\u001b[39mdtype_backend,\n\u001b[1;32m   1023\u001b[0m )\n\u001b[1;32m   1024\u001b[0m kwds\u001b[38;5;241m.\u001b[39mupdate(kwds_defaults)\n\u001b[0;32m-> 1026\u001b[0m \u001b[38;5;28;01mreturn\u001b[39;00m \u001b[43m_read\u001b[49m\u001b[43m(\u001b[49m\u001b[43mfilepath_or_buffer\u001b[49m\u001b[43m,\u001b[49m\u001b[43m \u001b[49m\u001b[43mkwds\u001b[49m\u001b[43m)\u001b[49m\n",
      "File \u001b[0;32m~/opt/anaconda3/envs/brushup_env/lib/python3.12/site-packages/pandas/io/parsers/readers.py:620\u001b[0m, in \u001b[0;36m_read\u001b[0;34m(filepath_or_buffer, kwds)\u001b[0m\n\u001b[1;32m    617\u001b[0m _validate_names(kwds\u001b[38;5;241m.\u001b[39mget(\u001b[38;5;124m\"\u001b[39m\u001b[38;5;124mnames\u001b[39m\u001b[38;5;124m\"\u001b[39m, \u001b[38;5;28;01mNone\u001b[39;00m))\n\u001b[1;32m    619\u001b[0m \u001b[38;5;66;03m# Create the parser.\u001b[39;00m\n\u001b[0;32m--> 620\u001b[0m parser \u001b[38;5;241m=\u001b[39m \u001b[43mTextFileReader\u001b[49m\u001b[43m(\u001b[49m\u001b[43mfilepath_or_buffer\u001b[49m\u001b[43m,\u001b[49m\u001b[43m \u001b[49m\u001b[38;5;241;43m*\u001b[39;49m\u001b[38;5;241;43m*\u001b[39;49m\u001b[43mkwds\u001b[49m\u001b[43m)\u001b[49m\n\u001b[1;32m    622\u001b[0m \u001b[38;5;28;01mif\u001b[39;00m chunksize \u001b[38;5;129;01mor\u001b[39;00m iterator:\n\u001b[1;32m    623\u001b[0m     \u001b[38;5;28;01mreturn\u001b[39;00m parser\n",
      "File \u001b[0;32m~/opt/anaconda3/envs/brushup_env/lib/python3.12/site-packages/pandas/io/parsers/readers.py:1620\u001b[0m, in \u001b[0;36mTextFileReader.__init__\u001b[0;34m(self, f, engine, **kwds)\u001b[0m\n\u001b[1;32m   1617\u001b[0m     \u001b[38;5;28mself\u001b[39m\u001b[38;5;241m.\u001b[39moptions[\u001b[38;5;124m\"\u001b[39m\u001b[38;5;124mhas_index_names\u001b[39m\u001b[38;5;124m\"\u001b[39m] \u001b[38;5;241m=\u001b[39m kwds[\u001b[38;5;124m\"\u001b[39m\u001b[38;5;124mhas_index_names\u001b[39m\u001b[38;5;124m\"\u001b[39m]\n\u001b[1;32m   1619\u001b[0m \u001b[38;5;28mself\u001b[39m\u001b[38;5;241m.\u001b[39mhandles: IOHandles \u001b[38;5;241m|\u001b[39m \u001b[38;5;28;01mNone\u001b[39;00m \u001b[38;5;241m=\u001b[39m \u001b[38;5;28;01mNone\u001b[39;00m\n\u001b[0;32m-> 1620\u001b[0m \u001b[38;5;28mself\u001b[39m\u001b[38;5;241m.\u001b[39m_engine \u001b[38;5;241m=\u001b[39m \u001b[38;5;28;43mself\u001b[39;49m\u001b[38;5;241;43m.\u001b[39;49m\u001b[43m_make_engine\u001b[49m\u001b[43m(\u001b[49m\u001b[43mf\u001b[49m\u001b[43m,\u001b[49m\u001b[43m \u001b[49m\u001b[38;5;28;43mself\u001b[39;49m\u001b[38;5;241;43m.\u001b[39;49m\u001b[43mengine\u001b[49m\u001b[43m)\u001b[49m\n",
      "File \u001b[0;32m~/opt/anaconda3/envs/brushup_env/lib/python3.12/site-packages/pandas/io/parsers/readers.py:1880\u001b[0m, in \u001b[0;36mTextFileReader._make_engine\u001b[0;34m(self, f, engine)\u001b[0m\n\u001b[1;32m   1878\u001b[0m     \u001b[38;5;28;01mif\u001b[39;00m \u001b[38;5;124m\"\u001b[39m\u001b[38;5;124mb\u001b[39m\u001b[38;5;124m\"\u001b[39m \u001b[38;5;129;01mnot\u001b[39;00m \u001b[38;5;129;01min\u001b[39;00m mode:\n\u001b[1;32m   1879\u001b[0m         mode \u001b[38;5;241m+\u001b[39m\u001b[38;5;241m=\u001b[39m \u001b[38;5;124m\"\u001b[39m\u001b[38;5;124mb\u001b[39m\u001b[38;5;124m\"\u001b[39m\n\u001b[0;32m-> 1880\u001b[0m \u001b[38;5;28mself\u001b[39m\u001b[38;5;241m.\u001b[39mhandles \u001b[38;5;241m=\u001b[39m \u001b[43mget_handle\u001b[49m\u001b[43m(\u001b[49m\n\u001b[1;32m   1881\u001b[0m \u001b[43m    \u001b[49m\u001b[43mf\u001b[49m\u001b[43m,\u001b[49m\n\u001b[1;32m   1882\u001b[0m \u001b[43m    \u001b[49m\u001b[43mmode\u001b[49m\u001b[43m,\u001b[49m\n\u001b[1;32m   1883\u001b[0m \u001b[43m    \u001b[49m\u001b[43mencoding\u001b[49m\u001b[38;5;241;43m=\u001b[39;49m\u001b[38;5;28;43mself\u001b[39;49m\u001b[38;5;241;43m.\u001b[39;49m\u001b[43moptions\u001b[49m\u001b[38;5;241;43m.\u001b[39;49m\u001b[43mget\u001b[49m\u001b[43m(\u001b[49m\u001b[38;5;124;43m\"\u001b[39;49m\u001b[38;5;124;43mencoding\u001b[39;49m\u001b[38;5;124;43m\"\u001b[39;49m\u001b[43m,\u001b[49m\u001b[43m \u001b[49m\u001b[38;5;28;43;01mNone\u001b[39;49;00m\u001b[43m)\u001b[49m\u001b[43m,\u001b[49m\n\u001b[1;32m   1884\u001b[0m \u001b[43m    \u001b[49m\u001b[43mcompression\u001b[49m\u001b[38;5;241;43m=\u001b[39;49m\u001b[38;5;28;43mself\u001b[39;49m\u001b[38;5;241;43m.\u001b[39;49m\u001b[43moptions\u001b[49m\u001b[38;5;241;43m.\u001b[39;49m\u001b[43mget\u001b[49m\u001b[43m(\u001b[49m\u001b[38;5;124;43m\"\u001b[39;49m\u001b[38;5;124;43mcompression\u001b[39;49m\u001b[38;5;124;43m\"\u001b[39;49m\u001b[43m,\u001b[49m\u001b[43m \u001b[49m\u001b[38;5;28;43;01mNone\u001b[39;49;00m\u001b[43m)\u001b[49m\u001b[43m,\u001b[49m\n\u001b[1;32m   1885\u001b[0m \u001b[43m    \u001b[49m\u001b[43mmemory_map\u001b[49m\u001b[38;5;241;43m=\u001b[39;49m\u001b[38;5;28;43mself\u001b[39;49m\u001b[38;5;241;43m.\u001b[39;49m\u001b[43moptions\u001b[49m\u001b[38;5;241;43m.\u001b[39;49m\u001b[43mget\u001b[49m\u001b[43m(\u001b[49m\u001b[38;5;124;43m\"\u001b[39;49m\u001b[38;5;124;43mmemory_map\u001b[39;49m\u001b[38;5;124;43m\"\u001b[39;49m\u001b[43m,\u001b[49m\u001b[43m \u001b[49m\u001b[38;5;28;43;01mFalse\u001b[39;49;00m\u001b[43m)\u001b[49m\u001b[43m,\u001b[49m\n\u001b[1;32m   1886\u001b[0m \u001b[43m    \u001b[49m\u001b[43mis_text\u001b[49m\u001b[38;5;241;43m=\u001b[39;49m\u001b[43mis_text\u001b[49m\u001b[43m,\u001b[49m\n\u001b[1;32m   1887\u001b[0m \u001b[43m    \u001b[49m\u001b[43merrors\u001b[49m\u001b[38;5;241;43m=\u001b[39;49m\u001b[38;5;28;43mself\u001b[39;49m\u001b[38;5;241;43m.\u001b[39;49m\u001b[43moptions\u001b[49m\u001b[38;5;241;43m.\u001b[39;49m\u001b[43mget\u001b[49m\u001b[43m(\u001b[49m\u001b[38;5;124;43m\"\u001b[39;49m\u001b[38;5;124;43mencoding_errors\u001b[39;49m\u001b[38;5;124;43m\"\u001b[39;49m\u001b[43m,\u001b[49m\u001b[43m \u001b[49m\u001b[38;5;124;43m\"\u001b[39;49m\u001b[38;5;124;43mstrict\u001b[39;49m\u001b[38;5;124;43m\"\u001b[39;49m\u001b[43m)\u001b[49m\u001b[43m,\u001b[49m\n\u001b[1;32m   1888\u001b[0m \u001b[43m    \u001b[49m\u001b[43mstorage_options\u001b[49m\u001b[38;5;241;43m=\u001b[39;49m\u001b[38;5;28;43mself\u001b[39;49m\u001b[38;5;241;43m.\u001b[39;49m\u001b[43moptions\u001b[49m\u001b[38;5;241;43m.\u001b[39;49m\u001b[43mget\u001b[49m\u001b[43m(\u001b[49m\u001b[38;5;124;43m\"\u001b[39;49m\u001b[38;5;124;43mstorage_options\u001b[39;49m\u001b[38;5;124;43m\"\u001b[39;49m\u001b[43m,\u001b[49m\u001b[43m \u001b[49m\u001b[38;5;28;43;01mNone\u001b[39;49;00m\u001b[43m)\u001b[49m\u001b[43m,\u001b[49m\n\u001b[1;32m   1889\u001b[0m \u001b[43m\u001b[49m\u001b[43m)\u001b[49m\n\u001b[1;32m   1890\u001b[0m \u001b[38;5;28;01massert\u001b[39;00m \u001b[38;5;28mself\u001b[39m\u001b[38;5;241m.\u001b[39mhandles \u001b[38;5;129;01mis\u001b[39;00m \u001b[38;5;129;01mnot\u001b[39;00m \u001b[38;5;28;01mNone\u001b[39;00m\n\u001b[1;32m   1891\u001b[0m f \u001b[38;5;241m=\u001b[39m \u001b[38;5;28mself\u001b[39m\u001b[38;5;241m.\u001b[39mhandles\u001b[38;5;241m.\u001b[39mhandle\n",
      "File \u001b[0;32m~/opt/anaconda3/envs/brushup_env/lib/python3.12/site-packages/pandas/io/common.py:873\u001b[0m, in \u001b[0;36mget_handle\u001b[0;34m(path_or_buf, mode, encoding, compression, memory_map, is_text, errors, storage_options)\u001b[0m\n\u001b[1;32m    868\u001b[0m \u001b[38;5;28;01melif\u001b[39;00m \u001b[38;5;28misinstance\u001b[39m(handle, \u001b[38;5;28mstr\u001b[39m):\n\u001b[1;32m    869\u001b[0m     \u001b[38;5;66;03m# Check whether the filename is to be opened in binary mode.\u001b[39;00m\n\u001b[1;32m    870\u001b[0m     \u001b[38;5;66;03m# Binary mode does not support 'encoding' and 'newline'.\u001b[39;00m\n\u001b[1;32m    871\u001b[0m     \u001b[38;5;28;01mif\u001b[39;00m ioargs\u001b[38;5;241m.\u001b[39mencoding \u001b[38;5;129;01mand\u001b[39;00m \u001b[38;5;124m\"\u001b[39m\u001b[38;5;124mb\u001b[39m\u001b[38;5;124m\"\u001b[39m \u001b[38;5;129;01mnot\u001b[39;00m \u001b[38;5;129;01min\u001b[39;00m ioargs\u001b[38;5;241m.\u001b[39mmode:\n\u001b[1;32m    872\u001b[0m         \u001b[38;5;66;03m# Encoding\u001b[39;00m\n\u001b[0;32m--> 873\u001b[0m         handle \u001b[38;5;241m=\u001b[39m \u001b[38;5;28;43mopen\u001b[39;49m\u001b[43m(\u001b[49m\n\u001b[1;32m    874\u001b[0m \u001b[43m            \u001b[49m\u001b[43mhandle\u001b[49m\u001b[43m,\u001b[49m\n\u001b[1;32m    875\u001b[0m \u001b[43m            \u001b[49m\u001b[43mioargs\u001b[49m\u001b[38;5;241;43m.\u001b[39;49m\u001b[43mmode\u001b[49m\u001b[43m,\u001b[49m\n\u001b[1;32m    876\u001b[0m \u001b[43m            \u001b[49m\u001b[43mencoding\u001b[49m\u001b[38;5;241;43m=\u001b[39;49m\u001b[43mioargs\u001b[49m\u001b[38;5;241;43m.\u001b[39;49m\u001b[43mencoding\u001b[49m\u001b[43m,\u001b[49m\n\u001b[1;32m    877\u001b[0m \u001b[43m            \u001b[49m\u001b[43merrors\u001b[49m\u001b[38;5;241;43m=\u001b[39;49m\u001b[43merrors\u001b[49m\u001b[43m,\u001b[49m\n\u001b[1;32m    878\u001b[0m \u001b[43m            \u001b[49m\u001b[43mnewline\u001b[49m\u001b[38;5;241;43m=\u001b[39;49m\u001b[38;5;124;43m\"\u001b[39;49m\u001b[38;5;124;43m\"\u001b[39;49m\u001b[43m,\u001b[49m\n\u001b[1;32m    879\u001b[0m \u001b[43m        \u001b[49m\u001b[43m)\u001b[49m\n\u001b[1;32m    880\u001b[0m     \u001b[38;5;28;01melse\u001b[39;00m:\n\u001b[1;32m    881\u001b[0m         \u001b[38;5;66;03m# Binary mode\u001b[39;00m\n\u001b[1;32m    882\u001b[0m         handle \u001b[38;5;241m=\u001b[39m \u001b[38;5;28mopen\u001b[39m(handle, ioargs\u001b[38;5;241m.\u001b[39mmode)\n",
      "\u001b[0;31mFileNotFoundError\u001b[0m: [Errno 2] No such file or directory: '/Users/ferranboadabergada/Desktop/brushup_files/data/WB_more_data.csv'"
     ]
    }
   ],
   "source": [
    "import os\n",
    "cwd = os.getcwd()\n",
    "df_WB_more_data = pd.read_csv(cwd + '/data/WB_more_data.csv')"
   ]
  },
  {
   "cell_type": "code",
   "execution_count": null,
   "metadata": {},
   "outputs": [],
   "source": [
    "# copy the data\n",
    "df_og = df_WB_more_data.copy()\n",
    "\n",
    "# check what series and countries are included\n",
    "print(df_og['Series Name'].unique())\n",
    "print(df_og['Country Name'].nunique())\n",
    "df_og.sample(3)"
   ]
  },
  {
   "cell_type": "code",
   "execution_count": null,
   "metadata": {},
   "outputs": [],
   "source": [
    "df_og.describe()"
   ]
  },
  {
   "cell_type": "markdown",
   "metadata": {},
   "source": [
    "#### 3.1 Melting and pivoting"
   ]
  },
  {
   "cell_type": "code",
   "execution_count": null,
   "metadata": {},
   "outputs": [],
   "source": [
    "# melt the data frame \n",
    "year_cols = ['2001', '2002', '2003', '2011', '2012', '2013', '2021', '2022', '2023']\n",
    "\n",
    "df_melted = pd.melt(df_og, id_vars=['Country Name', 'Country Code', 'Series Name'], value_vars= year_cols, var_name='year', value_name='any_name')\n",
    "\n",
    "df_melted.sample(5)\n"
   ]
  },
  {
   "cell_type": "code",
   "execution_count": null,
   "metadata": {},
   "outputs": [],
   "source": [
    "## Solution\n",
    "print(df_melted.shape)\n",
    "print(df_melted['Series Name'].value_counts())\n",
    "print(df_melted['year'].value_counts())\n",
    "\n",
    "print(217*9)\n",
    "print(217*5)"
   ]
  },
  {
   "cell_type": "code",
   "execution_count": null,
   "metadata": {},
   "outputs": [],
   "source": [
    "# pivot the data frame\n",
    "pivoted_df = df_melted.pivot(index=['Country Name', 'Country Code', 'year'], columns='Series Name', values='any_name').reset_index()\n",
    "print(pivoted_df.shape)\n",
    "pivoted_df.sample(4)"
   ]
  },
  {
   "cell_type": "markdown",
   "metadata": {},
   "source": [
    "#### 3.2 Renaming & missingness"
   ]
  },
  {
   "cell_type": "code",
   "execution_count": 208,
   "metadata": {},
   "outputs": [],
   "source": [
    "df = pivoted_df.copy()"
   ]
  },
  {
   "cell_type": "code",
   "execution_count": null,
   "metadata": {},
   "outputs": [],
   "source": [
    "# use renaming dictionary\n",
    "rename_dict = {\n",
    "    'Country Code' : 'isocode',\n",
    "    '??' : '???',\n",
    "    \n",
    "}\n",
    "\n",
    "df.rename(columns=rename_dict, inplace=True)\n",
    "\n",
    "df.set_index('??', inplace= True)\n",
    "\n",
    "df"
   ]
  },
  {
   "cell_type": "code",
   "execution_count": null,
   "metadata": {},
   "outputs": [],
   "source": [
    "# round to two decimal places\n",
    "\n",
    "df['primary_out_school_pct'] = round(df['primary_out_school_pct'],2)\n",
    "df"
   ]
  },
  {
   "cell_type": "code",
   "execution_count": null,
   "metadata": {},
   "outputs": [],
   "source": [
    "# inspect the missingness\n",
    "msno.matrix(df)\n"
   ]
  },
  {
   "cell_type": "code",
   "execution_count": null,
   "metadata": {},
   "outputs": [],
   "source": [
    "# what is going on?\n",
    "print(df.loc['AFG']['primary_out_school_total'][0])"
   ]
  },
  {
   "cell_type": "code",
   "execution_count": null,
   "metadata": {},
   "outputs": [],
   "source": [
    "# let's fix it\n",
    "df.replace(???, np.nan, inplace=True)\n",
    "\n",
    "msno.matrix(df)"
   ]
  },
  {
   "cell_type": "code",
   "execution_count": null,
   "metadata": {},
   "outputs": [],
   "source": [
    "# only keep the rows that don't have missing values\n",
    "\n",
    "dropped = df.???()\n",
    "\n",
    "# what are we inspecting here?\n",
    "print(dropped.index.nunique())"
   ]
  },
  {
   "cell_type": "code",
   "execution_count": null,
   "metadata": {},
   "outputs": [],
   "source": [
    "# sets are useful for finding differences!\n",
    "diff_iso = set(df.country.unique()) - set(dropped.country.unique())\n",
    "len(diff_iso)\n",
    "print(diff_iso)"
   ]
  },
  {
   "cell_type": "code",
   "execution_count": 239,
   "metadata": {},
   "outputs": [],
   "source": [
    "#dropped.to_csv(cwd + \"/data/WB_reshaped_nomissing.csv\")"
   ]
  },
  {
   "cell_type": "markdown",
   "metadata": {},
   "source": [
    "#### 3.3 Groupby\n"
   ]
  },
  {
   "cell_type": "code",
   "execution_count": null,
   "metadata": {},
   "outputs": [],
   "source": [
    "df = dropped.copy()\n",
    "\n",
    "df.info()"
   ]
  },
  {
   "cell_type": "code",
   "execution_count": null,
   "metadata": {},
   "outputs": [],
   "source": [
    "df['???'] = df['???'].astype('???')"
   ]
  },
  {
   "cell_type": "code",
   "execution_count": null,
   "metadata": {},
   "outputs": [],
   "source": [
    "df.sample(4)"
   ]
  },
  {
   "cell_type": "code",
   "execution_count": null,
   "metadata": {},
   "outputs": [],
   "source": [
    "# only now we can grouby\n",
    "\n",
    "df.groupby(['country'])['gni_pc'].agg(['???'])"
   ]
  },
  {
   "cell_type": "markdown",
   "metadata": {},
   "source": [
    "#### 3.4 Features"
   ]
  },
  {
   "cell_type": "code",
   "execution_count": null,
   "metadata": {},
   "outputs": [],
   "source": [
    "df.describe()"
   ]
  },
  {
   "cell_type": "code",
   "execution_count": 218,
   "metadata": {},
   "outputs": [],
   "source": [
    "# df['gni_bil'] = round(df['gni']/1_000_000_000, 3)\n",
    "# df['pop_mil'] = round(df['gni']/1_000_000, 3)\n",
    "# df['gni_bil_pc'] = round(df['gni_pc']/1_000_000_000, 3)\n",
    "# df['prim_oos_pct'] = round(df['gni_pc']/1_000_000_000, 3)"
   ]
  },
  {
   "cell_type": "markdown",
   "metadata": {},
   "source": [
    "Suppose you estimate that working-age population is roughly 60% of the total population. You can create a dependency ratio:"
   ]
  },
  {
   "cell_type": "code",
   "execution_count": null,
   "metadata": {},
   "outputs": [],
   "source": [
    "df['primary_aged_total'] =\n",
    "df['primary_aged_of_pop'] = \n",
    "\n",
    "# using appy\n",
    "\n",
    "df['dependency'] = df.apply(\n",
    "    lambda row: row['primary_out_school_total'] / (row['pop'] * 0.6), axis=1\n",
    ")\n",
    "\n",
    "df.sample(3)"
   ]
  },
  {
   "cell_type": "code",
   "execution_count": 220,
   "metadata": {},
   "outputs": [],
   "source": [
    "# using a lambda function and mapping a dictionary\n",
    "\n",
    "income_groups = {\n",
    "    lambda x: x < 1045: 'low',\n",
    "    lambda x: 1045 <= x < 4095: 'low_mid',\n",
    "    lambda x: 4095 <= x < 12695: 'upp_mid',\n",
    "    lambda x: x >= 12695: 'high'\n",
    "}\n",
    "\n",
    "df['income_group'] = df['gni_pc'].map(\n",
    "    lambda x: next((v for k, v in income_groups.items() if k(x)), None)\n",
    ")\n",
    "df.income_group.value_counts()"
   ]
  },
  {
   "cell_type": "markdown",
   "metadata": {},
   "source": [
    "#### 3.5 Extra"
   ]
  },
  {
   "cell_type": "code",
   "execution_count": null,
   "metadata": {},
   "outputs": [],
   "source": [
    "df_highest_year = df.sort_values('???', ascending=False).drop_duplicates('???')\n",
    "df_highest_year"
   ]
  },
  {
   "cell_type": "code",
   "execution_count": null,
   "metadata": {},
   "outputs": [],
   "source": [
    "df_highest_year.boxplot(column='???')"
   ]
  },
  {
   "cell_type": "code",
   "execution_count": null,
   "metadata": {},
   "outputs": [],
   "source": [
    "df_highest_year.gni_pc.nlargest(10)"
   ]
  },
  {
   "cell_type": "code",
   "execution_count": null,
   "metadata": {},
   "outputs": [],
   "source": [
    "# show the box plot only for a given income group\n",
    "df_highest_year.loc[???].boxplot(column='gni_pc')"
   ]
  },
  {
   "cell_type": "code",
   "execution_count": null,
   "metadata": {},
   "outputs": [],
   "source": [
    "groups = ['high', 'upp_mid', 'low_mid', 'low']\n",
    "\n",
    "# Create a figure with subplots\n",
    "fig, axes = plt.subplots(1, len(groups), figsize=(12, 6))\n",
    "\n",
    "# Loop through each group and create a boxplot in the corresponding subplot\n",
    "for i, group in enumerate(groups):\n",
    "    df_highest_year.loc[df_highest_year['income_group'] == ???].boxplot(column='gni_pc', ax=axes[???])\n",
    "    axes[i].set_title(group)\n",
    "\n",
    "# Adjust layout\n",
    "plt.tight_layout()\n",
    "plt.show()"
   ]
  },
  {
   "cell_type": "code",
   "execution_count": null,
   "metadata": {},
   "outputs": [],
   "source": [
    "# compare\n",
    "df_highest_year.plot.scatter(x='???', y='???')"
   ]
  },
  {
   "cell_type": "code",
   "execution_count": null,
   "metadata": {},
   "outputs": [],
   "source": [
    "# compare\n",
    "df_highest_year."
   ]
  },
  {
   "cell_type": "code",
   "execution_count": null,
   "metadata": {},
   "outputs": [],
   "source": [
    "# Create a figure with subplots\n",
    "fig, axes = plt.subplots(1, len(groups), figsize=(12, 6))\n",
    "\n",
    "# Loop through each group and create a boxplot in the corresponding subplot\n",
    "for i, group in enumerate(groups):\n",
    "    ???\n",
    "    axes[i].set_title(group)\n",
    "\n",
    "# Adjust layout\n",
    "plt.tight_layout()\n",
    "plt.show()"
   ]
  },
  {
   "cell_type": "markdown",
   "metadata": {},
   "source": [
    "### 4. Background cleaning"
   ]
  },
  {
   "cell_type": "code",
   "execution_count": null,
   "metadata": {},
   "outputs": [],
   "source": [
    "df_WB = pd.read_csv(cwd + '/data/WB_full.csv')\n",
    "#df_meta = pd.read_csv(cwd + '/data/WB_metadata.csv')\n",
    "\n",
    "df_WB.head()"
   ]
  },
  {
   "cell_type": "code",
   "execution_count": 233,
   "metadata": {},
   "outputs": [],
   "source": [
    "# clean column names\n",
    "cols_to_clean = df_WB.columns.tolist()\n",
    "rename_dict = {col: col.split()[0] for col in cols_to_clean if '[YR' in col}\n",
    "df_WB = df_WB.rename(columns=rename_dict)"
   ]
  },
  {
   "cell_type": "markdown",
   "metadata": {},
   "source": [
    "The net enrollment rate excludes overage and underage students and more accurately captures the system's coverage and internal efficiency. Differences between the gross enrollment ratio and the net enrollment rate show the incidence of overage and underage enrollments.\n",
    "https://databank.worldbank.org/metadataglossary/world-development-indicators/series/SE.PRE.ENRR"
   ]
  },
  {
   "cell_type": "code",
   "execution_count": null,
   "metadata": {},
   "outputs": [],
   "source": [
    "df_WB['Series Name'].unique()"
   ]
  },
  {
   "cell_type": "code",
   "execution_count": 235,
   "metadata": {},
   "outputs": [],
   "source": [
    "series_to_keep = ['Population, total',\n",
    "                  'GNI, Atlas method (current US$)', 'GNI per capita, Atlas method (current US$)',\n",
    "                  'Children out of school, primary',\n",
    "                  'Children out of school (% of primary school age)'\n",
    "                  ]"
   ]
  },
  {
   "cell_type": "code",
   "execution_count": 236,
   "metadata": {},
   "outputs": [],
   "source": [
    "df_choice = df_WB.loc[df_WB['Series Name'].isin(series_to_keep)]\n",
    "\n",
    "country_groups = [\n",
    "    \"AFE\", \"AFW\", \"ARB\", \"CSS\", \"CEB\", \"EAR\", \"EAS\", \"EAP\", \"TEA\", \"EMU\", \n",
    "    \"ECS\", \"ECA\", \"TEC\", \"EUU\", \"FCS\", \"HPC\", \"HIC\", \"IBD\", \"IBT\", \"IDB\", \n",
    "    \"IDX\", \"IDA\", \"LTE\", \"LCN\", \"LAC\", \"TLA\", \"LDC\", \"LMY\", \"LIC\", \"LMC\", \n",
    "    \"MEA\", \"MNA\", \"TMN\", \"MIC\", \"NAC\", \"INX\", \"OED\", \"OSS\", \"PSS\", \"PST\", \n",
    "    \"PRE\", \"SST\", \"SAS\", \"TSA\", \"SSF\", \"SSA\", \"TSS\", \"UMC\"]\n",
    "\n",
    "world = [\"WLD\"]\n",
    "\n",
    "filtered_df = df_choice[~df_choice['Country Code'].isin(country_groups + world)]\n",
    "\n",
    "# download data\n",
    "#filtered_df.to_csv(cwd + '/data/WB_more_data.csv', index=False)"
   ]
  },
  {
   "cell_type": "code",
   "execution_count": null,
   "metadata": {},
   "outputs": [],
   "source": [
    "filtered_df.sample(5)"
   ]
  }
 ],
 "metadata": {
  "kernelspec": {
   "display_name": "brushup",
   "language": "python",
   "name": "python3"
  },
  "language_info": {
   "codemirror_mode": {
    "name": "ipython",
    "version": 3
   },
   "file_extension": ".py",
   "mimetype": "text/x-python",
   "name": "python",
   "nbconvert_exporter": "python",
   "pygments_lexer": "ipython3",
   "version": "3.12.4"
  }
 },
 "nbformat": 4,
 "nbformat_minor": 2
}
