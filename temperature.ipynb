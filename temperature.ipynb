{
 "cells": [
  {
   "cell_type": "code",
   "execution_count": 12,
   "metadata": {},
   "outputs": [
    {
     "name": "stdout",
     "output_type": "stream",
     "text": [
      "15 degrees celsius is equal to 59.0 degrees fahrenheit\n",
      "25 degrees celsius is equal to 77.0 degrees fahrenheit\n",
      "[59.0, 77.0]\n"
     ]
    }
   ],
   "source": [
    "def c_to_f(celsius):\n",
    "    result=[]\n",
    "    for i in range(0,len(celsius)):\n",
    "       \n",
    "      if type(celsius[i])!=int:\n",
    "        return \n",
    "      else:\n",
    "        result.append(celsius[i]*9/5 + 32)\n",
    "    for i in range(0,len(result)):\n",
    "       print(str(celsius[i])+ \" degrees celsius is equal to \"+ str(result[i])+ \" degrees fahrenheit\")\n",
    "    return result\n",
    "cel=[15,25]\n",
    "print(c_to_f(cel))"
   ]
  },
  {
   "cell_type": "code",
   "execution_count": null,
   "metadata": {},
   "outputs": [],
   "source": []
  },
  {
   "cell_type": "code",
   "execution_count": null,
   "metadata": {},
   "outputs": [],
   "source": []
  }
 ],
 "metadata": {
  "kernelspec": {
   "display_name": "base",
   "language": "python",
   "name": "python3"
  },
  "language_info": {
   "codemirror_mode": {
    "name": "ipython",
    "version": 3
   },
   "file_extension": ".py",
   "mimetype": "text/x-python",
   "name": "python",
   "nbconvert_exporter": "python",
   "pygments_lexer": "ipython3",
   "version": "3.8.3"
  }
 },
 "nbformat": 4,
 "nbformat_minor": 2
}
